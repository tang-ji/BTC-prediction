{
 "cells": [
  {
   "cell_type": "code",
   "execution_count": 1,
   "metadata": {},
   "outputs": [
    {
     "name": "stderr",
     "output_type": "stream",
     "text": [
      "Using TensorFlow backend.\n"
     ]
    }
   ],
   "source": [
    "import pandas as pd\n",
    "import numpy as np\n",
    "import matplotlib.pyplot as plt\n",
    "from pandas_datareader.data import DataReader\n",
    "\n",
    "from sklearn.model_selection import train_test_split\n",
    "from sklearn.metrics import accuracy_score, f1_score, mean_squared_error\n",
    "from sklearn.model_selection import GridSearchCV\n",
    "from sklearn.svm import SVR\n",
    "from sklearn import preprocessing\n",
    "from xgboost import XGBClassifier, XGBRegressor\n",
    "import datetime\n",
    "\n",
    "from keras.layers import *\n",
    "from keras.models import Model"
   ]
  },
  {
   "cell_type": "code",
   "execution_count": 2,
   "metadata": {},
   "outputs": [],
   "source": [
    "start = datetime.datetime(2017, 8, 1)\n",
    "end = datetime.datetime(2020, 8, 17)\n",
    "Indicators = DataReader([\"CBBTCUSD\", \"CBBCHUSD\", \"CBCCIND\", \"CBETHUSD\", \"sp500\", \"VIXCLS\", \"T10YIE\", \"DGS5\", \"GOLDPMGBD230NLBM\", \"SLVPRUSD\"], 'fred', start, end)\\\n",
    "    .fillna(method=\"pad\").fillna(method=\"backfill\")"
   ]
  },
  {
   "cell_type": "code",
   "execution_count": 4,
   "metadata": {},
   "outputs": [],
   "source": [
    "Indicators.to_csv('dataset/Indicators.csv', index=True, header=True)"
   ]
  },
  {
   "cell_type": "code",
   "execution_count": 3,
   "metadata": {},
   "outputs": [],
   "source": [
    "Indicators = pd.read_csv('dataset/Indicators.csv', index_col=\"DATE\")"
   ]
  },
  {
   "cell_type": "code",
   "execution_count": 3,
   "metadata": {},
   "outputs": [
    {
     "data": {
      "text/html": [
       "<div>\n",
       "<style scoped>\n",
       "    .dataframe tbody tr th:only-of-type {\n",
       "        vertical-align: middle;\n",
       "    }\n",
       "\n",
       "    .dataframe tbody tr th {\n",
       "        vertical-align: top;\n",
       "    }\n",
       "\n",
       "    .dataframe thead th {\n",
       "        text-align: right;\n",
       "    }\n",
       "</style>\n",
       "<table border=\"1\" class=\"dataframe\">\n",
       "  <thead>\n",
       "    <tr style=\"text-align: right;\">\n",
       "      <th></th>\n",
       "      <th>CBBTCUSD</th>\n",
       "      <th>CBBCHUSD</th>\n",
       "      <th>CBCCIND</th>\n",
       "      <th>CBETHUSD</th>\n",
       "      <th>sp500</th>\n",
       "      <th>VIXCLS</th>\n",
       "      <th>T10YIE</th>\n",
       "      <th>DGS5</th>\n",
       "      <th>GOLDPMGBD230NLBM</th>\n",
       "      <th>SLVPRUSD</th>\n",
       "    </tr>\n",
       "    <tr>\n",
       "      <th>DATE</th>\n",
       "      <th></th>\n",
       "      <th></th>\n",
       "      <th></th>\n",
       "      <th></th>\n",
       "      <th></th>\n",
       "      <th></th>\n",
       "      <th></th>\n",
       "      <th></th>\n",
       "      <th></th>\n",
       "      <th></th>\n",
       "    </tr>\n",
       "  </thead>\n",
       "  <tbody>\n",
       "    <tr>\n",
       "      <td>2017-08-01</td>\n",
       "      <td>2732.59</td>\n",
       "      <td>3746.84</td>\n",
       "      <td>1346.434772</td>\n",
       "      <td>225.73</td>\n",
       "      <td>2476.35</td>\n",
       "      <td>10.09</td>\n",
       "      <td>1.79</td>\n",
       "      <td>1.80</td>\n",
       "      <td>1075.22</td>\n",
       "      <td>16.580</td>\n",
       "    </tr>\n",
       "    <tr>\n",
       "      <td>2017-08-02</td>\n",
       "      <td>2699.90</td>\n",
       "      <td>3746.84</td>\n",
       "      <td>1320.244944</td>\n",
       "      <td>217.92</td>\n",
       "      <td>2477.57</td>\n",
       "      <td>10.28</td>\n",
       "      <td>1.79</td>\n",
       "      <td>1.82</td>\n",
       "      <td>1072.56</td>\n",
       "      <td>16.580</td>\n",
       "    </tr>\n",
       "    <tr>\n",
       "      <td>2017-08-03</td>\n",
       "      <td>2787.02</td>\n",
       "      <td>3746.84</td>\n",
       "      <td>1360.591607</td>\n",
       "      <td>224.00</td>\n",
       "      <td>2472.16</td>\n",
       "      <td>10.44</td>\n",
       "      <td>1.78</td>\n",
       "      <td>1.79</td>\n",
       "      <td>1069.90</td>\n",
       "      <td>16.580</td>\n",
       "    </tr>\n",
       "    <tr>\n",
       "      <td>2017-08-04</td>\n",
       "      <td>2857.34</td>\n",
       "      <td>3746.84</td>\n",
       "      <td>1378.173407</td>\n",
       "      <td>220.72</td>\n",
       "      <td>2476.83</td>\n",
       "      <td>10.03</td>\n",
       "      <td>1.80</td>\n",
       "      <td>1.82</td>\n",
       "      <td>1067.41</td>\n",
       "      <td>16.580</td>\n",
       "    </tr>\n",
       "    <tr>\n",
       "      <td>2017-08-05</td>\n",
       "      <td>3243.49</td>\n",
       "      <td>3746.84</td>\n",
       "      <td>1563.954493</td>\n",
       "      <td>251.85</td>\n",
       "      <td>2476.83</td>\n",
       "      <td>10.03</td>\n",
       "      <td>1.80</td>\n",
       "      <td>1.82</td>\n",
       "      <td>1067.41</td>\n",
       "      <td>16.580</td>\n",
       "    </tr>\n",
       "    <tr>\n",
       "      <td>...</td>\n",
       "      <td>...</td>\n",
       "      <td>...</td>\n",
       "      <td>...</td>\n",
       "      <td>...</td>\n",
       "      <td>...</td>\n",
       "      <td>...</td>\n",
       "      <td>...</td>\n",
       "      <td>...</td>\n",
       "      <td>...</td>\n",
       "      <td>...</td>\n",
       "    </tr>\n",
       "    <tr>\n",
       "      <td>2020-08-12</td>\n",
       "      <td>11563.16</td>\n",
       "      <td>284.25</td>\n",
       "      <td>3180.272971</td>\n",
       "      <td>386.66</td>\n",
       "      <td>3380.35</td>\n",
       "      <td>22.28</td>\n",
       "      <td>1.67</td>\n",
       "      <td>0.30</td>\n",
       "      <td>1640.57</td>\n",
       "      <td>25.810</td>\n",
       "    </tr>\n",
       "    <tr>\n",
       "      <td>2020-08-13</td>\n",
       "      <td>11824.99</td>\n",
       "      <td>297.06</td>\n",
       "      <td>3180.272971</td>\n",
       "      <td>426.65</td>\n",
       "      <td>3373.43</td>\n",
       "      <td>22.13</td>\n",
       "      <td>1.67</td>\n",
       "      <td>0.32</td>\n",
       "      <td>1640.17</td>\n",
       "      <td>26.250</td>\n",
       "    </tr>\n",
       "    <tr>\n",
       "      <td>2020-08-14</td>\n",
       "      <td>11785.29</td>\n",
       "      <td>294.26</td>\n",
       "      <td>3180.272971</td>\n",
       "      <td>439.26</td>\n",
       "      <td>3372.85</td>\n",
       "      <td>22.05</td>\n",
       "      <td>1.65</td>\n",
       "      <td>0.32</td>\n",
       "      <td>1643.31</td>\n",
       "      <td>26.705</td>\n",
       "    </tr>\n",
       "    <tr>\n",
       "      <td>2020-08-15</td>\n",
       "      <td>11854.27</td>\n",
       "      <td>302.60</td>\n",
       "      <td>3180.272971</td>\n",
       "      <td>432.78</td>\n",
       "      <td>3372.85</td>\n",
       "      <td>22.05</td>\n",
       "      <td>1.65</td>\n",
       "      <td>0.32</td>\n",
       "      <td>1643.31</td>\n",
       "      <td>26.705</td>\n",
       "    </tr>\n",
       "    <tr>\n",
       "      <td>2020-08-16</td>\n",
       "      <td>11924.00</td>\n",
       "      <td>308.79</td>\n",
       "      <td>3180.272971</td>\n",
       "      <td>434.53</td>\n",
       "      <td>3372.85</td>\n",
       "      <td>22.05</td>\n",
       "      <td>1.65</td>\n",
       "      <td>0.32</td>\n",
       "      <td>1643.31</td>\n",
       "      <td>26.705</td>\n",
       "    </tr>\n",
       "  </tbody>\n",
       "</table>\n",
       "<p>1112 rows × 10 columns</p>\n",
       "</div>"
      ],
      "text/plain": [
       "            CBBTCUSD  CBBCHUSD      CBCCIND  CBETHUSD    sp500  VIXCLS  \\\n",
       "DATE                                                                     \n",
       "2017-08-01   2732.59   3746.84  1346.434772    225.73  2476.35   10.09   \n",
       "2017-08-02   2699.90   3746.84  1320.244944    217.92  2477.57   10.28   \n",
       "2017-08-03   2787.02   3746.84  1360.591607    224.00  2472.16   10.44   \n",
       "2017-08-04   2857.34   3746.84  1378.173407    220.72  2476.83   10.03   \n",
       "2017-08-05   3243.49   3746.84  1563.954493    251.85  2476.83   10.03   \n",
       "...              ...       ...          ...       ...      ...     ...   \n",
       "2020-08-12  11563.16    284.25  3180.272971    386.66  3380.35   22.28   \n",
       "2020-08-13  11824.99    297.06  3180.272971    426.65  3373.43   22.13   \n",
       "2020-08-14  11785.29    294.26  3180.272971    439.26  3372.85   22.05   \n",
       "2020-08-15  11854.27    302.60  3180.272971    432.78  3372.85   22.05   \n",
       "2020-08-16  11924.00    308.79  3180.272971    434.53  3372.85   22.05   \n",
       "\n",
       "            T10YIE  DGS5  GOLDPMGBD230NLBM  SLVPRUSD  \n",
       "DATE                                                  \n",
       "2017-08-01    1.79  1.80           1075.22    16.580  \n",
       "2017-08-02    1.79  1.82           1072.56    16.580  \n",
       "2017-08-03    1.78  1.79           1069.90    16.580  \n",
       "2017-08-04    1.80  1.82           1067.41    16.580  \n",
       "2017-08-05    1.80  1.82           1067.41    16.580  \n",
       "...            ...   ...               ...       ...  \n",
       "2020-08-12    1.67  0.30           1640.57    25.810  \n",
       "2020-08-13    1.67  0.32           1640.17    26.250  \n",
       "2020-08-14    1.65  0.32           1643.31    26.705  \n",
       "2020-08-15    1.65  0.32           1643.31    26.705  \n",
       "2020-08-16    1.65  0.32           1643.31    26.705  \n",
       "\n",
       "[1112 rows x 10 columns]"
      ]
     },
     "execution_count": 3,
     "metadata": {},
     "output_type": "execute_result"
    }
   ],
   "source": [
    "Indicators"
   ]
  },
  {
   "cell_type": "code",
   "execution_count": 4,
   "metadata": {},
   "outputs": [],
   "source": [
    "Indicators_pct = Indicators.pct_change()\n",
    "\n",
    "scaler = preprocessing.MinMaxScaler().fit(Indicators)\n",
    "Indicators_sca = Indicators.copy()\n",
    "Indicators_sca[:] = scaler.transform(Indicators)\n",
    "\n",
    "Indicators_full = pd.concat([Indicators_pct, Indicators_sca], axis=1)"
   ]
  },
  {
   "cell_type": "code",
   "execution_count": 5,
   "metadata": {},
   "outputs": [
    {
     "data": {
      "text/plain": [
       "<matplotlib.axes._subplots.AxesSubplot at 0x7ff69d5be9d0>"
      ]
     },
     "execution_count": 5,
     "metadata": {},
     "output_type": "execute_result"
    },
    {
     "data": {
      "image/png": "[encoded data removed]",
      "text/plain": [
       "<Figure size 1000x500 with 1 Axes>"
      ]
     },
     "metadata": {
      "needs_background": "light"
     },
     "output_type": "display_data"
    }
   ],
   "source": [
    "df = pd.DataFrame(Indicators_pct, index=Indicators_pct.index, columns=Indicators_pct.columns.values)\n",
    "fig = plt.figure(dpi=100)\n",
    "df.plot(figsize=(10,5), ax = plt.gca())"
   ]
  },
  {
   "cell_type": "code",
   "execution_count": 6,
   "metadata": {},
   "outputs": [],
   "source": [
    "def getDataMatrix(D, n=5):\n",
    "    Y = D[n:, 0].copy()\n",
    "    X = np.zeros((D.shape[0]-n+1, n, D.shape[1]))\n",
    "    for i in range(n):\n",
    "        X[:, i, :] = D[i:i+D.shape[0]-n+1, :]\n",
    "    return X[:-1], Y, np.expand_dims(X[-1], axis=0)\n",
    "\n",
    "def getDataArray(D, n=5):\n",
    "    Y = D[n:, 0].copy()\n",
    "    X = np.zeros((D.shape[0]-n+1, n * D.shape[1]))\n",
    "    for i in range(n):\n",
    "        X[:, i*D.shape[1]:(i+1)*D.shape[1]] = D[i:i+D.shape[0]-n+1, :]\n",
    "    return X[:-1], Y, np.expand_dims(X[-1], axis=0)"
   ]
  },
  {
   "cell_type": "code",
   "execution_count": 7,
   "metadata": {},
   "outputs": [],
   "source": [
    "n = 10\n",
    "# X, Y, X_last = getDataMatrix(Indicators_full.values[1:], n)\n",
    "X, Y, X_last = getDataArray(Indicators_full.values[1:], n)"
   ]
  },
  {
   "cell_type": "code",
   "execution_count": 27,
   "metadata": {},
   "outputs": [],
   "source": [
    "Y[Y>=0] = 1\n",
    "Y[Y<0] = -1"
   ]
  },
  {
   "cell_type": "code",
   "execution_count": 8,
   "metadata": {},
   "outputs": [
    {
     "name": "stdout",
     "output_type": "stream",
     "text": [
      "(1095, 200) (1095,) (1, 200)\n"
     ]
    }
   ],
   "source": [
    "print(X.shape, Y.shape, X_last.shape)"
   ]
  },
  {
   "cell_type": "code",
   "execution_count": 9,
   "metadata": {},
   "outputs": [],
   "source": [
    "train_set, test_set = train_test_split(range(len(X)), test_size=0.2, shuffle=True)"
   ]
  },
  {
   "cell_type": "markdown",
   "metadata": {},
   "source": [
    "## Neural Network"
   ]
  },
  {
   "cell_type": "code",
   "execution_count": 14,
   "metadata": {},
   "outputs": [],
   "source": [
    "x0 = Input((X.shape[1], X.shape[2]))\n",
    "x = LSTM(100, return_sequences=True)(x0)\n",
    "x = Flatten()(x)\n",
    "x = Dense(10)(x)\n",
    "x = Dropout(0.5)(x)\n",
    "x = Dense(1, activation=\"tanh\")(x)"
   ]
  },
  {
   "cell_type": "code",
   "execution_count": 15,
   "metadata": {},
   "outputs": [
    {
     "name": "stdout",
     "output_type": "stream",
     "text": [
      "Model: \"model\"\n",
      "_________________________________________________________________\n",
      "Layer (type)                 Output Shape              Param #   \n",
      "=================================================================\n",
      "input_1 (InputLayer)         [(None, 10, 20)]          0         \n",
      "_________________________________________________________________\n",
      "lstm (LSTM)                  (None, 10, 100)           48400     \n",
      "_________________________________________________________________\n",
      "flatten (Flatten)            (None, 1000)              0         \n",
      "_________________________________________________________________\n",
      "dense (Dense)                (None, 10)                10010     \n",
      "_________________________________________________________________\n",
      "dropout (Dropout)            (None, 10)                0         \n",
      "_________________________________________________________________\n",
      "dense_1 (Dense)              (None, 1)                 11        \n",
      "=================================================================\n",
      "Total params: 58,421\n",
      "Trainable params: 58,421\n",
      "Non-trainable params: 0\n",
      "_________________________________________________________________\n"
     ]
    }
   ],
   "source": [
    "model = Model(x0, x)\n",
    "model.compile(optimizer='adam', loss=\"mse\")\n",
    "model.summary()"
   ]
  },
  {
   "cell_type": "code",
   "execution_count": 16,
   "metadata": {
    "scrolled": true
   },
   "outputs": [
    {
     "name": "stdout",
     "output_type": "stream",
     "text": [
      "Epoch 1/20\n",
      "110/110 [==============================] - 1s 7ms/step - loss: 0.0057 - val_loss: 0.0025\n",
      "Epoch 2/20\n",
      "110/110 [==============================] - 0s 4ms/step - loss: 0.0032 - val_loss: 0.0037\n",
      "Epoch 3/20\n",
      "110/110 [==============================] - 0s 4ms/step - loss: 0.0027 - val_loss: 0.0020\n",
      "Epoch 4/20\n",
      "110/110 [==============================] - 0s 4ms/step - loss: 0.0024 - val_loss: 0.0022\n",
      "Epoch 5/20\n",
      "110/110 [==============================] - 0s 4ms/step - loss: 0.0024 - val_loss: 0.0019\n",
      "Epoch 6/20\n",
      "110/110 [==============================] - 0s 4ms/step - loss: 0.0022 - val_loss: 0.0018\n",
      "Epoch 7/20\n",
      "110/110 [==============================] - 0s 4ms/step - loss: 0.0022 - val_loss: 0.0021\n",
      "Epoch 8/20\n",
      "110/110 [==============================] - 0s 4ms/step - loss: 0.0020 - val_loss: 0.0020\n",
      "Epoch 9/20\n",
      "110/110 [==============================] - 0s 4ms/step - loss: 0.0022 - val_loss: 0.0019\n",
      "Epoch 10/20\n",
      "110/110 [==============================] - 1s 5ms/step - loss: 0.0020 - val_loss: 0.0022\n",
      "Epoch 11/20\n",
      "110/110 [==============================] - 1s 5ms/step - loss: 0.0020 - val_loss: 0.0019\n",
      "Epoch 12/20\n",
      "110/110 [==============================] - 0s 4ms/step - loss: 0.0020 - val_loss: 0.0018\n",
      "Epoch 13/20\n",
      "110/110 [==============================] - 0s 5ms/step - loss: 0.0020 - val_loss: 0.0018\n",
      "Epoch 14/20\n",
      "110/110 [==============================] - 0s 4ms/step - loss: 0.0020 - val_loss: 0.0019\n",
      "Epoch 15/20\n",
      "110/110 [==============================] - 0s 4ms/step - loss: 0.0019 - val_loss: 0.0019\n",
      "Epoch 16/20\n",
      "110/110 [==============================] - 0s 4ms/step - loss: 0.0020 - val_loss: 0.0018\n",
      "Epoch 17/20\n",
      "110/110 [==============================] - 0s 4ms/step - loss: 0.0020 - val_loss: 0.0019\n",
      "Epoch 18/20\n",
      "110/110 [==============================] - 0s 4ms/step - loss: 0.0018 - val_loss: 0.0018\n",
      "Epoch 19/20\n",
      "110/110 [==============================] - 0s 4ms/step - loss: 0.0019 - val_loss: 0.0018\n",
      "Epoch 20/20\n",
      "110/110 [==============================] - 0s 4ms/step - loss: 0.0019 - val_loss: 0.0019\n"
     ]
    },
    {
     "data": {
      "text/plain": [
       "<tensorflow.python.keras.callbacks.History at 0x7fb9d1e96290>"
      ]
     },
     "execution_count": 16,
     "metadata": {},
     "output_type": "execute_result"
    }
   ],
   "source": [
    "model.fit(X[train_set], Y[train_set], batch_size=8, epochs=20, validation_data=(X[test_set], Y[test_set]))"
   ]
  },
  {
   "cell_type": "code",
   "execution_count": 17,
   "metadata": {},
   "outputs": [],
   "source": [
    "y_pred = model.predict(X_last)"
   ]
  },
  {
   "cell_type": "code",
   "execution_count": 18,
   "metadata": {},
   "outputs": [
    {
     "data": {
      "text/plain": [
       "array([[0.01100253]], dtype=float32)"
      ]
     },
     "execution_count": 18,
     "metadata": {},
     "output_type": "execute_result"
    }
   ],
   "source": [
    "y_pred"
   ]
  },
  {
   "cell_type": "code",
   "execution_count": 19,
   "metadata": {},
   "outputs": [
    {
     "data": {
      "text/plain": [
       "12027.078158213404"
      ]
     },
     "execution_count": 19,
     "metadata": {},
     "output_type": "execute_result"
    }
   ],
   "source": [
    "Indicators[\"CBBTCUSD\"][-1] * (1+y_pred[0][0])"
   ]
  },
  {
   "cell_type": "markdown",
   "metadata": {},
   "source": [
    "## XGBoost"
   ]
  },
  {
   "cell_type": "code",
   "execution_count": 10,
   "metadata": {},
   "outputs": [],
   "source": [
    "ALGORITHMS = {\n",
    "    'XGB': {\n",
    "        'model': XGBClassifier(n_jobs=4),\n",
    "        'params': {\n",
    "            \"n_estimators\": [30, 50, 100],\n",
    "            \"max_depth\": [6, 7, 8],\n",
    "            \"eta\": [0.01, 0.001],\n",
    "        }\n",
    "    },\n",
    "    'SVM': {\n",
    "        'model': SVR(gamma='scale'),\n",
    "        'params': {\n",
    "            \"kernel\": ['linear', 'rbf' ], # 'poly', 'sigmoid'\n",
    "            \"C\": [0.1, 1.0, 100.0, 10000.0],\n",
    "            \"epsilon\": [0.001, 1.0],\n",
    "        }\n",
    "    }\n",
    "}\n",
    "\n",
    "method = \"SVM\"\n",
    "CV = 3\n",
    "\n",
    "model = GridSearchCV(\n",
    "    ALGORITHMS[method]['model'],\n",
    "    ALGORITHMS[method]['params'],\n",
    "    cv=CV,\n",
    "    n_jobs=-1,\n",
    ")"
   ]
  },
  {
   "cell_type": "code",
   "execution_count": 12,
   "metadata": {},
   "outputs": [
    {
     "ename": "NameError",
     "evalue": "name 'mean_squared_error' is not defined",
     "output_type": "error",
     "traceback": [
      "\u001b[0;31m---------------------------------------------------------------------------\u001b[0m",
      "\u001b[0;31mNameError\u001b[0m                                 Traceback (most recent call last)",
      "\u001b[0;32m<ipython-input-12-659371e97dab>\u001b[0m in \u001b[0;36m<module>\u001b[0;34m\u001b[0m\n\u001b[1;32m      1\u001b[0m \u001b[0;31m# model.fit(X[train_set], Y[train_set])\u001b[0m\u001b[0;34m\u001b[0m\u001b[0;34m\u001b[0m\u001b[0;34m\u001b[0m\u001b[0m\n\u001b[0;32m----> 2\u001b[0;31m \u001b[0mprint\u001b[0m\u001b[0;34m(\u001b[0m\u001b[0;34m\"MSE:\"\u001b[0m\u001b[0;34m,\u001b[0m \u001b[0mmean_squared_error\u001b[0m\u001b[0;34m(\u001b[0m\u001b[0my_pred\u001b[0m\u001b[0;34m,\u001b[0m \u001b[0mY\u001b[0m\u001b[0;34m[\u001b[0m\u001b[0mtest_set\u001b[0m\u001b[0;34m]\u001b[0m\u001b[0;34m)\u001b[0m\u001b[0;34m)\u001b[0m\u001b[0;34m\u001b[0m\u001b[0;34m\u001b[0m\u001b[0m\n\u001b[0m\u001b[1;32m      3\u001b[0m \u001b[0mprint\u001b[0m\u001b[0;34m(\u001b[0m\u001b[0;34m\"Trainning MSE:\"\u001b[0m\u001b[0;34m,\u001b[0m \u001b[0mmean_squared_error\u001b[0m\u001b[0;34m(\u001b[0m\u001b[0mmodel\u001b[0m\u001b[0;34m.\u001b[0m\u001b[0mpredict\u001b[0m\u001b[0;34m(\u001b[0m\u001b[0mX\u001b[0m\u001b[0;34m[\u001b[0m\u001b[0mtrain_set\u001b[0m\u001b[0;34m]\u001b[0m\u001b[0;34m)\u001b[0m\u001b[0;34m,\u001b[0m \u001b[0mY\u001b[0m\u001b[0;34m[\u001b[0m\u001b[0mtrain_set\u001b[0m\u001b[0;34m]\u001b[0m\u001b[0;34m)\u001b[0m\u001b[0;34m)\u001b[0m\u001b[0;34m\u001b[0m\u001b[0;34m\u001b[0m\u001b[0m\n",
      "\u001b[0;31mNameError\u001b[0m: name 'mean_squared_error' is not defined"
     ]
    }
   ],
   "source": [
    "model.fit(X[train_set], Y[train_set])\n",
    "print(\"MSE:\", mean_squared_error(y_pred, Y[test_set]))\n",
    "print(\"Trainning MSE:\", mean_squared_error(model.predict(X[train_set]), Y[train_set]))"
   ]
  },
  {
   "cell_type": "code",
   "execution_count": 18,
   "metadata": {},
   "outputs": [
    {
     "data": {
      "text/plain": [
       "array([-1.])"
      ]
     },
     "execution_count": 18,
     "metadata": {},
     "output_type": "execute_result"
    }
   ],
   "source": [
    "model.predict(X_last)"
   ]
  },
  {
   "cell_type": "code",
   "execution_count": 19,
   "metadata": {},
   "outputs": [
    {
     "data": {
      "text/plain": [
       "array([1.])"
      ]
     },
     "execution_count": 19,
     "metadata": {},
     "output_type": "execute_result"
    }
   ],
   "source": [
    "model.predict(np.expand_dims(X[-3], 0))"
   ]
  },
  {
   "cell_type": "code",
   "execution_count": null,
   "metadata": {},
   "outputs": [],
   "source": []
  }
 ],
 "metadata": {
  "kernelspec": {
   "display_name": "Python 3",
   "language": "python",
   "name": "python3"
  },
  "language_info": {
   "codemirror_mode": {
    "name": "ipython",
    "version": 3
   },
   "file_extension": ".py",
   "mimetype": "text/x-python",
   "name": "python",
   "nbconvert_exporter": "python",
   "pygments_lexer": "ipython3",
   "version": "3.7.7"
  }
 },
 "nbformat": 4,
 "nbformat_minor": 2
}
